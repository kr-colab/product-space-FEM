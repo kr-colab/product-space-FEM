{
 "cells": [
  {
   "cell_type": "markdown",
   "id": "5d064da0",
   "metadata": {},
   "source": [
    "# Tutorial\n",
    "\n",
    "Our goal is to solve a PDE-constrained inverse problem\n",
    "on a product function space:\n",
    "we have data that we model as being noisy observations of a function $u(x)$,\n",
    "and that function $u$ is known to solve a PDE;\n",
    "our aim is to infer the (spatially varying) parameters that drive that PDE.\n",
    "The unknown quantities, as well as the only partially and noisily-observed unknown $u$,\n",
    "are *functions*, and the PDE can be thought of as a map from functions (its spatially varying parameters)\n",
    "to functions (the solutions).\n",
    "\n",
    "So, to do this, below we will:\n",
    "\n",
    "1. set up a (discretized) function space in which we can work\n",
    "2. set up the PDE (i.e., the forwards problem)\n",
    "3. define the way we choose a best solution, based on closeness of the data to the solution\n",
    "    and regularization terms (i.e., the loss function), and\n",
    "4. find the best-fitting function (i.e., solve the inverse problem)."
   ]
  },
  {
   "cell_type": "code",
   "execution_count": 1,
   "id": "0e4d4773-d296-40b9-9dc2-ff72153354d5",
   "metadata": {},
   "outputs": [
    {
     "ename": "ImportError",
     "evalue": "cannot import name 'equations' from partially initialized module 'product_fem' (most likely due to a circular import) (/home/peter/miniconda3/envs/fenics/lib/python3.8/site-packages/product_fem/__init__.py)",
     "output_type": "error",
     "traceback": [
      "\u001b[0;31m---------------------------------------------------------------------------\u001b[0m",
      "\u001b[0;31mImportError\u001b[0m                               Traceback (most recent call last)",
      "Input \u001b[0;32mIn [1]\u001b[0m, in \u001b[0;36m<module>\u001b[0;34m\u001b[0m\n\u001b[1;32m      2\u001b[0m \u001b[38;5;28;01mimport\u001b[39;00m \u001b[38;5;21;01mscipy\u001b[39;00m\u001b[38;5;21;01m.\u001b[39;00m\u001b[38;5;21;01msparse\u001b[39;00m \u001b[38;5;28;01mas\u001b[39;00m \u001b[38;5;21;01msps\u001b[39;00m\n\u001b[1;32m      3\u001b[0m \u001b[38;5;28;01mimport\u001b[39;00m \u001b[38;5;21;01mpandas\u001b[39;00m \u001b[38;5;28;01mas\u001b[39;00m \u001b[38;5;21;01mpd\u001b[39;00m\n\u001b[0;32m----> 4\u001b[0m \u001b[38;5;28;01mimport\u001b[39;00m \u001b[38;5;21;01mproduct_fem\u001b[39;00m \u001b[38;5;28;01mas\u001b[39;00m \u001b[38;5;21;01mpf\u001b[39;00m\n\u001b[1;32m      5\u001b[0m \u001b[38;5;28;01mimport\u001b[39;00m \u001b[38;5;21;01mfenics\u001b[39;00m \u001b[38;5;28;01mas\u001b[39;00m \u001b[38;5;21;01mfx\u001b[39;00m\n\u001b[1;32m      6\u001b[0m \u001b[38;5;28;01mimport\u001b[39;00m \u001b[38;5;21;01mmatplotlib\u001b[39;00m\u001b[38;5;21;01m.\u001b[39;00m\u001b[38;5;21;01mpyplot\u001b[39;00m \u001b[38;5;28;01mas\u001b[39;00m \u001b[38;5;21;01mplt\u001b[39;00m\n",
      "File \u001b[0;32m~/miniconda3/envs/fenics/lib/python3.8/site-packages/product_fem/__init__.py:10\u001b[0m, in \u001b[0;36m<module>\u001b[0;34m\u001b[0m\n\u001b[1;32m      8\u001b[0m \u001b[38;5;28;01mfrom\u001b[39;00m \u001b[38;5;21;01m.\u001b[39;00m\u001b[38;5;21;01msolvers\u001b[39;00m \u001b[38;5;28;01mimport\u001b[39;00m Solver\n\u001b[1;32m      9\u001b[0m \u001b[38;5;28;01mfrom\u001b[39;00m \u001b[38;5;21;01m.\u001b[39;00m\u001b[38;5;21;01mtransforms\u001b[39;00m \u001b[38;5;28;01mimport\u001b[39;00m to_array, to_Function\n\u001b[0;32m---> 10\u001b[0m \u001b[38;5;28;01mfrom\u001b[39;00m \u001b[38;5;21;01m.\u001b[39;00m \u001b[38;5;28;01mimport\u001b[39;00m equations\n\u001b[1;32m     11\u001b[0m \u001b[38;5;28;01mfrom\u001b[39;00m \u001b[38;5;21;01m.\u001b[39;00m\u001b[38;5;21;01m_version\u001b[39;00m \u001b[38;5;28;01mimport\u001b[39;00m psf_version \u001b[38;5;28;01mas\u001b[39;00m __version__\n",
      "\u001b[0;31mImportError\u001b[0m: cannot import name 'equations' from partially initialized module 'product_fem' (most likely due to a circular import) (/home/peter/miniconda3/envs/fenics/lib/python3.8/site-packages/product_fem/__init__.py)"
     ]
    }
   ],
   "source": [
    "import numpy as np\n",
    "import scipy.sparse as sps\n",
    "import pandas as pd\n",
    "import product_fem as pf\n",
    "import fenics as fx\n",
    "import matplotlib.pyplot as plt"
   ]
  },
  {
   "cell_type": "markdown",
   "id": "d94b493c",
   "metadata": {},
   "source": [
    "# Preliminaries"
   ]
  },
  {
   "cell_type": "markdown",
   "id": "b0b49e00",
   "metadata": {},
   "source": [
    "Outline: \n",
    "\n",
    "1. Defining function spaces and product function spaces\n",
    "2. Defining functions and getting values from them\n",
    "3. Plotting (note that many objects have `.plot( )` methods)"
   ]
  },
  {
   "cell_type": "markdown",
   "id": "3e8a93f7",
   "metadata": {},
   "source": [
    "We first choose a space of functions over which to solve the problem.\n",
    "These will be *continuous* functions, but they are defined using a discrete mesh.\n",
    "In the following code, we divide the unit square into sixteen pieces\n",
    "at the locations of a 5x5 mesh grid,\n",
    "and then $V$ will be the space of continuous functions\n",
    "that are piecewise linear (degree=1) on each of those pieces (\"continuous Galerkin\").\n",
    "Our unknowns will be functions of locations, and so will be functions $g \\in V$.\n",
    "\n",
    "However, our data are functions of *two* locations,\n",
    "for which we'll be working in the *product* space:\n",
    "a function in $W$ is of the form\n",
    "$$\n",
    "   f(x, y) = g_1(x) g_2(y),\n",
    "$$\n",
    "for some $g_1$ and $g_2$ in $V$."
   ]
  },
  {
   "cell_type": "code",
   "execution_count": null,
   "id": "007359de",
   "metadata": {},
   "outputs": [],
   "source": [
    "n = 5\n",
    "mesh = fx.UnitSquareMesh(n-1, n-1)\n",
    "V = fx.FunctionSpace(mesh, 'CG', 1)\n",
    "W = pf.ProductFunctionSpace(V)"
   ]
  },
  {
   "cell_type": "markdown",
   "id": "e4b5f3e4",
   "metadata": {},
   "source": [
    "Here is, for instance, what one of the basis functions in $V$ looks like:"
   ]
  },
  {
   "cell_type": "code",
   "execution_count": null,
   "id": "2ebf8bb8",
   "metadata": {},
   "outputs": [],
   "source": [
    "g = pf.functions.BasisFunction(V, 11)\n",
    "fig, ax = plt.subplots(figsize=(6, 6))\n",
    "fx.plot(g);"
   ]
  },
  {
   "cell_type": "markdown",
   "id": "c02a033f",
   "metadata": {},
   "source": [
    "We can also make function objects from expressions:"
   ]
  },
  {
   "cell_type": "code",
   "execution_count": null,
   "id": "97935898",
   "metadata": {},
   "outputs": [],
   "source": [
    "g = pf.to_Function(\"x[0] * exp(-abs(x[1] - 0.5))\", V)\n",
    "fig, ax = plt.subplots(figsize=(6, 6))\n",
    "fx.plot(g);"
   ]
  },
  {
   "cell_type": "markdown",
   "id": "e677a8c0",
   "metadata": {},
   "source": [
    "It is harder to visualize functions in $W$, because they are functions of $\\mathbb{R}^4$,\n",
    "but we may plot slices of them.\n",
    "Here, we plot the function\n",
    "$$\n",
    "   f(x, y) = x_0 + x_1 e^{-(y_0 + y_1 - 1)^2}\n",
    "$$\n",
    "as a function of $y$ at the \"slice\" $x = (0.2, 0.5)$.\n",
    "(This reference point, $x$, will be marked with a star in the plot.)\n",
    "Note that although our *basis* for $W$ is functions of the form $f(x, y) = g(x) g(y)$,\n",
    "this is invisible to the user - the functions themselves need not be of that form."
   ]
  },
  {
   "cell_type": "code",
   "execution_count": null,
   "id": "6db6dd32",
   "metadata": {},
   "outputs": [],
   "source": [
    "f = pf.ProductFunction(W)\n",
    "f.assign(lambda x, y: x[0] + x[1] * np.exp(-(y[0] + y[1] - 1)**2))\n",
    "f.plot((0.2, 0.5))"
   ]
  },
  {
   "cell_type": "markdown",
   "id": "581aa356",
   "metadata": {},
   "source": [
    "We can also evaluate functions like $f$ at particular points.\n",
    "Here is the value of $f(x, y)$, where $x = (0.2, 0.4)$ and $y=(0, 1)$."
   ]
  },
  {
   "cell_type": "code",
   "execution_count": null,
   "id": "6f2a3724",
   "metadata": {},
   "outputs": [],
   "source": [
    "f((0.2, 0.4), (0, 1))"
   ]
  },
  {
   "cell_type": "markdown",
   "id": "b44646f1",
   "metadata": {},
   "source": [
    "# The forwards problem"
   ]
  },
  {
   "cell_type": "markdown",
   "id": "6732328c",
   "metadata": {},
   "source": [
    "0. write down math problem\n",
    "1. boundary conditions\n",
    "2. diagonal boundary epsilon stuff\n",
    "3. equation object\n",
    "4. update control (note equation comes with a default)\n",
    "5. solve\n",
    "6. plot"
   ]
  },
  {
   "cell_type": "markdown",
   "id": "d6e9e01a",
   "metadata": {},
   "source": [
    "We will want to solve a PDE to find \"coalescence times\" for diffusions.\n",
    "Suppose that we have a diffusion that when at location $x$\n",
    "moves with mean $\\mu(x) dt$ and covariance $K(x) dt$ over an amount of time $dt$.\n",
    "(Note that here $\\mu$ and $K$ can both depend on location.)\n",
    "Then, if we let $u(x, y)$ be the mean time until *two* independent copies of this diffusion\n",
    "begun at $x$ and $y$ respectively\n",
    "are first are within distance $\\epsilon$,\n",
    "then $u(x, y)$ satisfies, for $|x - y| > \\epsilon$,\n",
    "\n",
    "$$\\begin{aligned}\n",
    "\\frac{1}{2} \\sum_{ij} K_{ij}(x) \\partial_{x_i} \\partial_{x_j} u(x, y) + \\sum_i \\mu_i(x) \\partial_{x_i} u(x, y) = -1 \n",
    "\\\\\n",
    "\\frac{1}{2} \\sum_{ij} K_{ij}(y) \\partial_{y_i} \\partial_{y_j} u(x, y) + \\sum_i \\mu_i(y) \\partial_{y_i} u(x, y) = -1 \n",
    "\\end{aligned}$$\n",
    "\n",
    "and $u(x, y) = 0$ for $|x - y| = \\epsilon$.\n",
    "\n",
    "Now, generalize the problem slightly so that the diffusions stay within some region $\\Omega$,\n",
    "reflecting off the boundaries of $\\Omega$,\n",
    "and also let $u(x, y)$ be the mean time as above plus some value $u_0(x,y)$\n",
    "that depends on where the diffusions hit the set $\\{x, y \\;:\\; |x-y| = \\epsilon\\}$.\n",
    "Then, $u(x, y)$ is as above for $x, y \\in \\Omega$,\n",
    "with reflecting boundary conditions on $(\\Omega \\times \\partial \\Omega) \\cup (\\partial \\Omega \\times \\Omega)$\n",
    "and with the condition that $u(x, y) = u_0(x, y)$ for $|x - y| = \\epsilon$.\n",
    "\n",
    "Our first goal is to find $u(x, y)$ given $\\mu$, $K$, $\\epsilon$, and $u_0$ (and, of course, $\\Omega$).\n",
    "We have set up $\\Omega$ above (this was $V$);\n",
    "now, we provide $\\epsilon$ and $u_0$ to set up the Equation object\n",
    "that will solve the problem for us as a function of $\\mu$ and $K$.\n",
    "Here we set $u_0$ to a constant, and $\\epsilon = 0.01$."
   ]
  },
  {
   "cell_type": "code",
   "execution_count": null,
   "id": "8c5dc23a",
   "metadata": {},
   "outputs": [],
   "source": [
    "eqn = pf.equations.HittingTimes(W, u_bdy=0.3, epsilon=0.01)"
   ]
  },
  {
   "cell_type": "markdown",
   "id": "603e1db4",
   "metadata": {},
   "source": [
    "Now, let's choose $\\mu$ and $K$.\n",
    "First, we need to know how they are parameterized.\n",
    "Consulting the documentation, we see that $\\mu$ is a straightforward vector field\n",
    "(so, a function with \"value dimension\" 2),\n",
    "and that $K$ is parameterized via a log-Cholesky decomposition with three free parameters,\n",
    "so that if the parameters are $(a_0, a_1, a_2)$ then\n",
    "$K = L^T L$ with $L_{00} = e^{a_0}$, $L_{11} = e^{a_1}$, and $L_{01} = a_2$.\n",
    "We can verify this by extracting the default *control* objects from the Equation\n",
    "and examining their \"value dimension\":"
   ]
  },
  {
   "cell_type": "code",
   "execution_count": null,
   "id": "a8c64c51",
   "metadata": {},
   "outputs": [],
   "source": [
    "mu, K = eqn.control\n",
    "mu.value_dim(), K.value_dim()"
   ]
  },
  {
   "cell_type": "markdown",
   "id": "2a658ef4",
   "metadata": {},
   "source": [
    "First, let's set $\\mu(x)$ to be the gradient of $|x - (0.5, 0.5)|^2 / 2$,\n",
    "i.e., $\\mu(x) = (x_0 - 0.5, x_1 - 0.5)$:"
   ]
  },
  {
   "cell_type": "code",
   "execution_count": null,
   "id": "b3c48afe",
   "metadata": {},
   "outputs": [],
   "source": [
    "new_mu = pf.to_Function(lambda x, y: [x - 0.5, y - 0.5], V)\n",
    "new_mu.plot();"
   ]
  },
  {
   "cell_type": "markdown",
   "id": "c7df1523",
   "metadata": {},
   "source": [
    "Next, let's choose $K$ so that the two coordinates are not correlated\n",
    "but the variances along each axis are largest transverse to $\\mu$:\n",
    "$a_0(x) = x_1 - 0.5$, $a_1(x) = x_0 - 0.5$, and $a_2(x) = 0$.\n",
    "We don't have an easy way to plot this one, as it's three-dimensional."
   ]
  },
  {
   "cell_type": "code",
   "execution_count": null,
   "id": "ee00c140",
   "metadata": {},
   "outputs": [],
   "source": [
    "new_K = pf.to_Function(lambda x, y: [y - 0.5, x - 0.5, 0], V)"
   ]
  },
  {
   "cell_type": "markdown",
   "id": "6e543e7e",
   "metadata": {},
   "source": [
    "Now, we just need to hand the Equation\n",
    "something of the same form as its Control object\n",
    "to get a solution back in return.\n",
    "Recall that the solution, $u$, is a ProductFunction,\n",
    "i.e., a function that takes *two* arguments in $\\mathbb{R}^2$,\n",
    "so to plot it we need to choose a slice.\n",
    "Here we'll plot $u(x, y)$ as a function of $y$, with $x$ fixed:"
   ]
  },
  {
   "cell_type": "code",
   "execution_count": null,
   "id": "91c61796",
   "metadata": {},
   "outputs": [],
   "source": [
    "u = eqn.solve([mu, K])\n",
    "u.plot(x=(0.2, 0.3))"
   ]
  },
  {
   "cell_type": "markdown",
   "id": "c78b6d7d",
   "metadata": {},
   "source": [
    "Note that the Equation comes with a *default* control\n",
    "(that happens to be $\\mu = 0$ and $K = I/4$),\n",
    "so we could have asked for a solution just by running `eqn.solve()`,\n",
    "which would return the solution with the default control."
   ]
  },
  {
   "cell_type": "markdown",
   "id": "c1679540",
   "metadata": {},
   "source": [
    "# The loss functional"
   ]
  },
  {
   "cell_type": "markdown",
   "id": "35890fe4",
   "metadata": {},
   "source": [
    "0. write down math, discuss regularization\n",
    "1. define some data (currently PDE solution-like, ie product function)\n",
    "2. get control, regularization coefficients\n",
    "3. define loss functional object\n",
    "4. compute a few losses (maybe show it's a local min?)"
   ]
  },
  {
   "cell_type": "markdown",
   "id": "a97d1d16-6865-42cb-a4ad-996d265ff3f7",
   "metadata": {},
   "source": [
    "Next we define a loss function, i.e., the quantity we seek to minimize\n",
    "by adjusting the controls to the equation.\n",
    "This will be of the form \"how close is the solution to the equation to our data\"\n",
    "plus some regularizing terms.\n",
    "So, suppose that $u_d$ is \"data\", i.e., an empirically observed product function,\n",
    "and $m$ is the \"control\" to the equation (as above),\n",
    "and $u$ is the solution to the equation with control $m$.\n",
    "We'll then set up the loss function\n",
    "\n",
    "$$\n",
    "    J(u, m; u_d, \\alpha, \\beta) = \n",
    "        \\iint_{\\Omega^2}\\! (u(x,y) - u_d(x,y))^2\\, dxdy \n",
    "        + \\frac{\\alpha}{2}\\int_\\Omega\\! m \\cdot m\\,dx \n",
    "        + \\frac{\\beta}{2}\\int_\\Omega\\! \\nabla m \\cdot \\nabla m \\,dx\n",
    "$$\n",
    "\n",
    "Here $\\alpha$ and $\\beta$ are the relative strengths of the $L^2$ regularization terms\n",
    "on $m$ and $\\nabla m$, respectively,\n",
    "referred to as the `l2` and `smoothing` terms.\n",
    "\n",
    "As written, this doesn't at first make sense, since $u$ is uniquely determined by $m$,\n",
    "but it turns out to be useful.\n",
    "For our purposes here, we want to minimize $J(u,m)$ *subject to the constraint*\n",
    "that $u$ is the solution to the equation produced by $m$.\n",
    "This function, which we'll call $\\widehat{J}$ (or, `Jhat`),\n",
    "is a function of *only* $m$."
   ]
  },
  {
   "cell_type": "markdown",
   "id": "ead19e23",
   "metadata": {},
   "source": [
    "Recall also that our `control` object $m$ has two components, $\\mu$ and $\\sigma$.\n",
    "So, when we define a `LossFunctional`, we can provide different values of $\\alpha$ and $\\beta$\n",
    "for each, through a dictionary with keys `\"l2\"` and `\"smoothing\"`.\n",
    "Here, $\\alpha = 10^{-6}$ for $\\mu$ and $\\alpha = 10^{-4}$ for $\\sigma$:"
   ]
  },
  {
   "cell_type": "code",
   "execution_count": null,
   "id": "f30a9f99",
   "metadata": {},
   "outputs": [],
   "source": [
    "J = pf.LossFunctional(u, m, {'l2': [1e-6, 1e-4], 'smoothing': [1e-1, 1e-1]})\n",
    "\n",
    "def Jhat(m):\n",
    "    u = eqn.solve(m)\n",
    "    return J(u, m)\n",
    "\n",
    "print(Jhat([new_mu, new_K])) # loss at truth"
   ]
  },
  {
   "cell_type": "markdown",
   "id": "2362ca98",
   "metadata": {},
   "source": [
    "# The inverse problem"
   ]
  },
  {
   "cell_type": "markdown",
   "id": "492dbbe2",
   "metadata": {},
   "source": [
    "0. write down math\n",
    "1. make inverse problem object (eqn, loss)\n",
    "2. see, it works! (with `.optmize` method)"
   ]
  }
 ],
 "metadata": {
  "kernelspec": {
   "display_name": "Python 3 (ipykernel)",
   "language": "python",
   "name": "python3"
  },
  "language_info": {
   "codemirror_mode": {
    "name": "ipython",
    "version": 3
   },
   "file_extension": ".py",
   "mimetype": "text/x-python",
   "name": "python",
   "nbconvert_exporter": "python",
   "pygments_lexer": "ipython3",
   "version": "3.8.12"
  }
 },
 "nbformat": 4,
 "nbformat_minor": 5
}
