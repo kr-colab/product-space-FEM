{
 "cells": [
  {
   "cell_type": "markdown",
   "id": "af95ad95",
   "metadata": {},
   "source": [
    "# Exact gradient\n",
    "Let\n",
    "\n",
    "$$\n",
    "    J(u,m) = \\frac{1}{2}\\int_{\\Omega\\times\\Omega}\\!\n",
    "    (u - u_d)^2\\, dxdy \n",
    "    + \\frac{\\gamma}{2}\\int_{\\Omega\\times\\Omega}\\!\n",
    "    \\nabla m \\cdot \\nabla m\\, dxdy\n",
    "$$\n",
    "\n",
    "where \n",
    "\n",
    "$$\n",
    "\\begin{align*}\n",
    "    -\\nabla\\cdot(e^m\\nabla u) &= f \n",
    "    \\text{ in }\\Omega\\times\\Omega \\\\\n",
    "    u &= 0 \n",
    "    \\text{ on }\\partial(\\Omega\\times\\Omega)\n",
    "\\end{align*}\n",
    "$$\n",
    "\n",
    "Then the directional derivative of $J$ with respect\n",
    "to $m$ in the (arbitrary) direction of $\\tilde m$ is\n",
    "\n",
    "$$\n",
    "    J_m(\\tilde m) =\n",
    "    \\int_{\\Omega\\times\\Omega}\\!\n",
    "    (\\tilde m e^m)\\nabla u \\cdot \\nabla p \\, dxdy\n",
    "    + \\gamma\\int_{\\Omega\\times\\Omega}\\!\n",
    "    \\nabla m \\cdot \\nabla \\tilde m \\, dxdy\n",
    "$$\n",
    "\n",
    "where the adjoint function $p$ solves\n",
    "\n",
    "$$\n",
    "\\begin{align*}\n",
    "    -\\nabla\\cdot(e^m\\nabla p) &= -(u - u_d) \n",
    "    \\text{ in }\\Omega\\times\\Omega \\\\\n",
    "    p &= 0 \n",
    "    \\text{ on }\\partial(\\Omega\\times\\Omega)\n",
    "\\end{align*}\n",
    "$$"
   ]
  },
  {
   "cell_type": "code",
   "execution_count": 3,
   "id": "77f3a8df",
   "metadata": {
    "ExecuteTime": {
     "end_time": "2021-12-14T20:42:03.635270Z",
     "start_time": "2021-12-14T20:42:03.623133Z"
    },
    "code_folding": []
   },
   "outputs": [],
   "source": [
    "import numpy as np\n",
    "from fenics import *\n",
    "\n",
    "def analytic_grad(m, f, n=11, gamma=1):\n",
    "    \"\"\"computes int _m e^m nabla(u) dot nabla(p) dxdy\n",
    "    + gamma int nabla(m) dot nabla(_m) dxdy\n",
    "    where _m is a placeholder for each basis element\"\"\"\n",
    "    \n",
    "    # given m, solve F(u, m) = 0 for u\n",
    "    mesh = UnitSquareMesh(n-1, n-1)\n",
    "    V = FunctionSpace(mesh, 'CG', 1)\n",
    "    v2d = vertex_to_dof_map(V)\n",
    "    bc = DirichletBC(V, 0, 'on_boundary')\n",
    "    \n",
    "    m = interpolate(Expression(m, element=V.ufl_element()), V)\n",
    "    f = interpolate(Expression(f, element=V.ufl_element()), V)\n",
    "    u, v = Function(V), TestFunction(V)\n",
    "    \n",
    "    F = exp(m) * inner(grad(u), grad(v)) * dx - f * v * dx\n",
    "    solve(F==0, u, bc)\n",
    "    \n",
    "    # given m and u, solve adjoint eq for p\n",
    "    p, v = Function(V), TestFunction(V)\n",
    "    u_d = Function(V) # let data=0\n",
    "    F_adj = exp(m) * inner(grad(p), grad(v)) * dx + (u - u_d)**2 * v * dx\n",
    "    solve(F_adj==0, p, bc)\n",
    "    \n",
    "    # given m, u and p, compute analytic gradient\n",
    "    grads = np.zeros(V.dim())\n",
    "    for i in range(V.dim()):\n",
    "        _m = Function(V)\n",
    "        _m.vector()[i] = 1.\n",
    "        grad_i = _m * exp(m) * inner(grad(u), grad(p)) * dx + gamma * inner(grad(m), grad(_m)) * dx\n",
    "        grads[i] = assemble(grad_i)\n",
    "    return grads[v2d]"
   ]
  },
  {
   "cell_type": "code",
   "execution_count": 4,
   "id": "0213b275",
   "metadata": {
    "ExecuteTime": {
     "end_time": "2021-12-14T20:42:03.897937Z",
     "start_time": "2021-12-14T20:42:03.790615Z"
    },
    "code_folding": [
     2
    ]
   },
   "outputs": [],
   "source": [
    "from fenics_adjoint import *\n",
    "\n",
    "def fenics_adj_grad(m, f, n=11, gamma=1):\n",
    "    \"\"\"automates analytic_grad using fenics_adjoint\"\"\"\n",
    "    tape = get_working_tape()\n",
    "    tape.clear_tape()\n",
    "    mesh = UnitSquareMesh(n-1, n-1)\n",
    "    V = FunctionSpace(mesh, 'CG', 1)\n",
    "    v2d = vertex_to_dof_map(V)\n",
    "    bc = DirichletBC(V, 0, 'on_boundary')\n",
    "    \n",
    "    m = interpolate(Expression(m, element=V.ufl_element()), V)\n",
    "    f = interpolate(Expression(f, element=V.ufl_element()), V)\n",
    "    u, v = Function(V), TestFunction(V)\n",
    "    \n",
    "    F = exp(m) * inner(grad(u), grad(v)) * dx - f * v * dx\n",
    "    solve(F==0, u, bc)\n",
    "    \n",
    "    u_d = Function(V) # let data=0\n",
    "    J = assemble(0.5 * (u - u_d)**2 * dx + gamma / 2 * inner(grad(m), grad(m)) * dx)\n",
    "    \n",
    "    # do taylor test\n",
    "#     h = Function(V)\n",
    "#     h.vector()[:] = 0.01\n",
    "#     Jhat = ReducedFunctional(J, Control(m))\n",
    "#     conv_rate = taylor_test(Jhat, m, h)\n",
    "#     return conv_rate\n",
    "    control = Control(m)\n",
    "    grads = compute_gradient(J, control)\n",
    "    return grads.vector()[v2d]"
   ]
  },
  {
   "cell_type": "markdown",
   "id": "02368f0d",
   "metadata": {},
   "source": [
    "Using the usual Lagrangian approach, we can write down\n",
    "the analytic weak formulations of the \n",
    "state, adjoint, and sensitivity equations:\n",
    "\n",
    "$$\n",
    "\\begin{align}\n",
    "    \\mathcal{L}_p(u, m, p)(\\tilde p) &= \n",
    "    \\int\\! e^m\\nabla u\\cdot\\nabla \\tilde p\\, dxdy \n",
    "    - \\int\\! f\\tilde p\\, dxdy\\\\\n",
    "    \\mathcal{L}_u(u, m, p)(\\tilde u) &= \n",
    "    \\int\\! (u-u_d)\\tilde u\\, dxdy\n",
    "    + \\int\\! e^m\\nabla p\\cdot\\nabla\\tilde u\\, dxdy\\\\\n",
    "    \\mathcal{L}_m(u, m, p)(\\tilde m) &= \n",
    "    \\int\\! (\\tilde m e^m)\\nabla u\\cdot\\nabla p\\, dxdy\n",
    "    + \\gamma \\int\\! \\nabla m\\cdot\\nabla\\tilde m\\, dxdy\n",
    "\\end{align}\n",
    "$$\n",
    "\n",
    "The goal of this section is to rewrite these as \n",
    "Kronecker products of matrices whose entries are\n",
    "integrals over $\\Omega$. Note the arbitrary directions\n",
    "(denoted with tildes) need only be computed for each\n",
    "basis element. The big picture flow is:\n",
    "\n",
    "1. Given $m$, solve the state equation (1) for $u$\n",
    "1. Given $m$ and $u$, solve the adjoint equation (2) for $p$\n",
    "1. Given $m$, $u$, and $p$, compute the functional sensitivity (3) and update $m$\n",
    "1. Return to step 1."
   ]
  },
  {
   "cell_type": "markdown",
   "id": "4f236047",
   "metadata": {},
   "source": [
    "## State equation discretization\n",
    "We obtain the state equation by setting (1) equal to zero. In other words, $\\mathcal{L}_p(u, m, p)(\\tilde p) =0$ after discretization is the same as $Au - b = 0$. \n",
    "For this particular problem the product stiffness\n",
    "matrix $A$ is not of the form $B\\otimes C + C\\otimes B$.\n",
    "Instead it looks more like $B\\otimes C + D\\otimes E$.\n",
    "For instance, assuming $m(x,y) = m_1(x) + m_2(y)$\n",
    "(so that $e^m = e^{m_1}e^{m_2}$) we have\n",
    "\n",
    "$$\n",
    "A_{ij,k\\ell} = \n",
    "\\left(\\int_\\Omega\\! e^{m_1}\\phi'_j\\hat\\phi'_i\\, dx\\right) \n",
    "\\left(\\int_\\Omega\\! e^{m_2}\\phi_\\ell\\hat\\phi_k\\, dy\\right)\n",
    "+ \\left(\\int_\\Omega\\! e^{m_1}\\phi_j\\hat\\phi_i\\, dx\\right) \n",
    "\\left(\\int_\\Omega e^{m_2} \\phi'_\\ell\\hat\\phi'_k\\, dy\\right)\n",
    "$$\n",
    "\n",
    "This is not the case when $m$ is univariate, however.\n",
    "Further assuming $f$ is separable such that \n",
    "$f(x,y) = f_1(x)f_2(y)$, the right hand side \n",
    "of the linearized state equation is\n",
    "\n",
    "$$\n",
    "b_{ij} = \\left(\\int_\\Omega\\! f_1 \\hat\\phi_i\\, dx\\right) \n",
    "\\left(\\int_\\Omega\\! f_2\\hat\\phi_j\\, dy\\right)\n",
    "$$"
   ]
  },
  {
   "cell_type": "markdown",
   "id": "6a6f58f3",
   "metadata": {},
   "source": [
    "## Adjoint equation discretization\n",
    "We obtain the adjoint equation by setting (2) equal to zero.\n",
    "In other words, $\\mathcal{L}_u(u, m, p)(\\tilde u) = 0$\n",
    "after discretization is the same as $A^T p - c = 0$\n",
    "To solve the adjoint equation $A^T p = c$ we need only\n",
    "compute the right hand side $c$ and apply vanishing boundary conditions on $p$. \n",
    "Let $\\epsilon(x,y) = u_d(x,y) - u(x,y)$ so that \n",
    "$\\epsilon(x,y) = \\sum_{ij}\\epsilon_{ij}\\phi_i(x)\\phi_j(y)$.\n",
    "It follows that the adjoint right hand side is\n",
    "\n",
    "$$\n",
    "c_{ij} = \\sum_{k\\ell}\\epsilon_{k\\ell}\n",
    "\\int\\! \\phi_k(x)\\phi_\\ell(y)\\phi_i(x)\\phi_j(y)\\, dxdy = \\epsilon^T K\\otimes K\n",
    "$$\n",
    "\n",
    "where $K_{ij} = \\int_\\Omega\\! \\phi_i\\phi_j \\, dx$\n",
    "and $\\epsilon$ is the vector of nodal values of $u_d - u$."
   ]
  },
  {
   "cell_type": "markdown",
   "id": "e8212cb5",
   "metadata": {},
   "source": [
    "## Sensitivity equation discretization\n",
    "We obtain the sensitivity equation by setting (3) equal to zero, since we will have a local optimum when the gradient vanishes. In practice, we are only interested\n",
    "in computing \n",
    "$\\mathcal{L}_m(u, m, p)(\\tilde m)$\n",
    "to inform how we can update $m$.\n",
    "After solving the state and adjoint equations we have\n",
    "$u$ and $p$, so we need only compute\n",
    "\n",
    "$$\n",
    "    \\frac{dJ}{dm} = p \\left(\\frac{\\partial b}{\\partial m} \n",
    "    - \\frac{\\partial A}{\\partial m}u\\right)\n",
    "    + \\frac{\\partial J}{\\partial m}\n",
    "$$\n",
    "\n",
    "Now, since $\\frac{\\partial b_{ij}}{\\partial m_{k\\ell}} = 0$ for all $i,j,k,\\ell$ we have\n",
    "$\\frac{\\partial b}{\\partial m} = 0$.\n",
    "Next we seek to compute \n",
    "$\\frac{\\partial A_{ij,k\\ell}}{\\partial m_{rs}}$ and\n",
    "$\\frac{\\partial J}{\\partial m_{rs}}$,\n",
    "which amounts to computing the first and second terms,\n",
    "respectively, in (3) using an arbitrary basis function\n",
    "$\\tilde m(x,y) = \\phi_r(x)\\phi_s(y)$.\n",
    "Recall\n",
    "\n",
    "$$\n",
    "A_{ij,k\\ell} = \n",
    "\\left(\\int_\\Omega\\! e^{m_1}\\phi'_j\\hat\\phi'_i\\, dx\\right) \n",
    "\\left(\\int_\\Omega\\! e^{m_2}\\phi_\\ell\\hat\\phi_k\\, dy\\right)\n",
    "+ \\left(\\int_\\Omega\\! e^{m_1}\\phi_j\\hat\\phi_i\\, dx\\right) \n",
    "\\left(\\int_\\Omega e^{m_2} \\phi'_\\ell\\hat\\phi'_k\\, dy\\right)\n",
    "$$\n",
    "\n",
    "and hence \n",
    "\n",
    "$$\n",
    "\\frac{\\partial A_{ij,k\\ell}}{\\partial m_{rs}} = \n",
    "\\left(\\int_\\Omega\\! \\phi_re^{m_1}\\phi'_j\\hat\\phi'_i\\, dx\\right) \n",
    "\\left(\\int_\\Omega\\! \\phi_se^{m_2}\\phi_\\ell\\hat\\phi_k\\, dy\\right)\n",
    "+ \\left(\\int_\\Omega\\! \\phi_re^{m_1}\\phi_j\\hat\\phi_i\\, dx\\right) \n",
    "\\left(\\int_\\Omega \\phi_se^{m_2} \\phi'_\\ell\\hat\\phi'_k\\, dy\\right)\n",
    "$$\n",
    "\n",
    "Similarly,\n",
    "\n",
    "$$\n",
    "\\frac{\\partial J}{\\partial m_{rs}} = \n",
    "\\gamma\\int\\!\\nabla m \\cdot \\nabla (\\phi_r\\phi_s) \\, dxdy\n",
    "= \\gamma\\int_\\Omega\\! m'_1\\phi'_r\\, dx\n",
    "\\int_\\Omega\\!\\phi_s\\, dy\n",
    "+ \\gamma\\int_\\Omega\\!\\phi_r\\, dx\n",
    "\\int_\\Omega\\!m'_2\\phi'_s\\, dy\n",
    "$$"
   ]
  },
  {
   "cell_type": "code",
   "execution_count": 5,
   "id": "145d77ed",
   "metadata": {
    "ExecuteTime": {
     "end_time": "2021-12-14T20:42:04.821932Z",
     "start_time": "2021-12-14T20:42:04.753365Z"
    },
    "code_folding": []
   },
   "outputs": [],
   "source": [
    "import product_fem as pf\n",
    "import seaborn as sns\n",
    "\n",
    "def product_space_grad(m, f, n=11, gamma=1):\n",
    "    \"\"\"assume m = X(x) + Y(y) and f = X(x)Y(y)\n",
    "    assemble product space system, solve for u\n",
    "    assemble adjoint product space system, solve for p\n",
    "    assemble dbdm, dAdm, dJdm\n",
    "    gradient is p * (dbdm - dAdm * u) + dJdm\"\"\"\n",
    "    mesh = UnitIntervalMesh(n-1)\n",
    "    V = FunctionSpace(mesh, 'CG', 1)\n",
    "    W = pf.ProductFunctionSpace(V)\n",
    "    bc = pf.ProductDirichletBC(W, 0, 'on_boundary')\n",
    "    \n",
    "    # assemble forward system and solve for u\n",
    "    # weak form: a(u,v) = e^m grad(u) dot grad(v) dx\n",
    "    #            L(v) = f * v * dx\n",
    "    m_x = interpolate(Expression(m[0], element=V.ufl_element()), V)\n",
    "    m_y = interpolate(Expression(m[1], element=V.ufl_element()), V)\n",
    "    f_x = interpolate(Expression(f[0], element=V.ufl_element()), V)\n",
    "    f_y = interpolate(Expression(f[1], element=V.ufl_element()), V)\n",
    "    m_dim = len(m_x.vector()[:]) ** 2\n",
    "    \n",
    "    u, v = TrialFunction(V), TestFunction(V)\n",
    "    A_forms = [exp(m_x) * u.dx(0) * v.dx(0) * dx,\n",
    "               exp(m_y) * u * v * dx,\n",
    "               exp(m_x) * u * v * dx,\n",
    "               exp(m_y) * u.dx(0) * v.dx(0) * dx]\n",
    "    b_forms = [f_x * v * dx,\n",
    "               f_y * v * dx]\n",
    "    A, b = pf.assemble_product_system(A_forms, b_forms, bc)\n",
    "    u = np.linalg.solve(A, b)\n",
    "    \n",
    "    # plot stiffness sparsity\n",
    "    sns.heatmap(A)\n",
    "    \n",
    "    # assemble adjoint system and solve for p\n",
    "    # no need to reassemble adjoint stiffness just take transpose\n",
    "    # rhs is residuals^T K \\otimes K where K_ij = \\phi_i \\hat\\phi_j dxdy\n",
    "    p, v = TrialFunction(V), TestFunction(V)\n",
    "    K = assemble(p * v * dx).array()\n",
    "    u_d = np.zeros_like(u) # assume u_d = 0 for now\n",
    "    eps = -(u - u_d)\n",
    "    b_adj = eps.T.dot(np.kron(K, K))\n",
    "    \n",
    "    A_adj, b_adj = bc.apply(A.T, b_adj)\n",
    "    p = np.linalg.solve(A_adj, b_adj).T\n",
    "    \n",
    "    # assemble dbdm, dAdm, dJdm\n",
    "    # here b is independent of m so dbdm = 0\n",
    "    dbdm = np.zeros((len(b), m_dim))\n",
    "    \n",
    "    # loop over rs\n",
    "    dofs = W.dofmap.marginal_dofs\n",
    "    dAdm = np.zeros((A.shape + (m_dim,)))\n",
    "    dJdm = np.zeros((1, m_dim))\n",
    "    uu = TrialFunction(V)\n",
    "    for r in dofs:\n",
    "        phi_r = Function(V)\n",
    "        phi_r.vector()[r] = 1.\n",
    "        for s in dofs:\n",
    "            rs = s + r * len(dofs)\n",
    "            phi_s = Function(V)\n",
    "            phi_s.vector()[s] = 1.\n",
    "            \n",
    "            # dAdm = (phi_r phi_s e^m) inner(grad(u), grad(p)) dxdy\n",
    "            dAdm_forms = [phi_r * exp(m_x) * uu.dx(0) * v.dx(0) * dx,\n",
    "                          phi_s * exp(m_y) * uu * v * dx,\n",
    "                          phi_r * exp(m_x) * uu * v * dx,\n",
    "                          phi_s * exp(m_y) * uu.dx(0) * v.dx(0) * dx]\n",
    "            dAdm[:,:,rs] = pf.assemble_kron(dAdm_forms)\n",
    "\n",
    "            # dJdm = gamma inner(grad(m), grad(phi_r phi_s)) dxdy\n",
    "            dJdm_forms = [phi_r.dx(0) * m_x.dx(0) * dx,\n",
    "                          phi_s * dx,\n",
    "                          phi_r * dx,\n",
    "                          phi_s.dx(0) * m_y.dx(0) * dx]\n",
    "            dJdm[0,rs] = gamma * pf.assemble_kron(dJdm_forms)\n",
    "    \n",
    "    # compute gradient = p * (dbdm - dAdm * u) + dJdm\n",
    "    dFdm = dbdm - np.tensordot(dAdm, u, axes=(1,0))\n",
    "    return p.dot(dFdm) + dJdm"
   ]
  },
  {
   "cell_type": "code",
   "execution_count": 12,
   "id": "c492b567",
   "metadata": {
    "ExecuteTime": {
     "end_time": "2021-12-14T22:15:25.224111Z",
     "start_time": "2021-12-14T22:15:22.125623Z"
    },
    "scrolled": false
   },
   "outputs": [
    {
     "data": {
      "image/png": "[encoded data removed]",
      "text/plain": [
       "<Figure size 432x288 with 2 Axes>"
      ]
     },
     "metadata": {
      "needs_background": "light"
     },
     "output_type": "display_data"
    }
   ],
   "source": [
    "n = 15\n",
    "m = 'cos(x[0]) + sin(x[1])' # additively separable\n",
    "f = 'exp(-x[0]) * cos(x[1])' # multiplicative separable\n",
    "gamma = 0.1\n",
    "grads1 = analytic_grad(m, f, n, gamma)\n",
    "grads2 = fenics_adj_grad(m, f, n, gamma)\n",
    "\n",
    "m = ['cos(x[0])', 'sin(x[0])']\n",
    "f = ['exp(-x[0])', 'cos(x[0])']\n",
    "grads3 = product_space_grad(m, f, n, gamma)"
   ]
  },
  {
   "cell_type": "code",
   "execution_count": 13,
   "id": "846360d0",
   "metadata": {
    "ExecuteTime": {
     "end_time": "2021-12-14T22:15:25.230253Z",
     "start_time": "2021-12-14T22:15:25.226482Z"
    }
   },
   "outputs": [],
   "source": [
    "# product to fenics permutation:\n",
    "# grads[v2d] in fenics will be ordered as \n",
    "# grid rows (left to right) bottom to top\n",
    "# product_grads will be ordered as \n",
    "# grid columns (top to bottom) right to left\n",
    "# want permutation p2f such that grads[v2d]==product_grads[p2f]\n",
    "# so in an n by n uniform grid,\n",
    "p2f = [-i-j*n for i in range(1,n+1) for j in range(n)]\n",
    "grads3 = grads3.flatten()[p2f]\n",
    "# NOTE this is a special case and we probably need a mesh independent construction"
   ]
  },
  {
   "cell_type": "code",
   "execution_count": 14,
   "id": "fe41622c",
   "metadata": {
    "ExecuteTime": {
     "end_time": "2021-12-14T22:15:25.243325Z",
     "start_time": "2021-12-14T22:15:25.233259Z"
    }
   },
   "outputs": [
    {
     "name": "stdout",
     "output_type": "stream",
     "text": [
      "[[1. 1.]\n",
      " [1. 1.]] 2.849730854226369e-06\n",
      "[[1. 1.]\n",
      " [1. 1.]] 5.7982296096724205e-06\n",
      "[[1. 1.]\n",
      " [1. 1.]] 2.949554546607491e-06\n"
     ]
    }
   ],
   "source": [
    "print(np.corrcoef(grads1, grads2), np.linalg.norm(grads1 - grads2))\n",
    "print(np.corrcoef(grads2, grads3), np.linalg.norm(grads2 - grads3))\n",
    "print(np.corrcoef(grads1, grads3), np.linalg.norm(grads1 - grads3))"
   ]
  },
  {
   "cell_type": "code",
   "execution_count": 9,
   "id": "92fe31a6",
   "metadata": {
    "ExecuteTime": {
     "end_time": "2021-12-14T22:14:49.699716Z",
     "start_time": "2021-12-14T22:13:50.914107Z"
    },
    "scrolled": false
   },
   "outputs": [
    {
     "data": {
      "image/png": "[encoded data removed]",
      "text/plain": [
       "<Figure size 432x288 with 2 Axes>"
      ]
     },
     "metadata": {
      "needs_background": "light"
     },
     "output_type": "display_data"
    }
   ],
   "source": [
    "n = 30\n",
    "m = 'cos(x[0]) + sin(x[1])' # additively separable\n",
    "f = 'exp(-x[0]) * cos(x[1])' # multiplicative separable\n",
    "gamma = 0.1\n",
    "grads1 = analytic_grad(m, f, n, gamma)\n",
    "grads2 = fenics_adj_grad(m, f, n, gamma)\n",
    "\n",
    "m = ['cos(x[0])', 'sin(x[0])']\n",
    "f = ['exp(-x[0])', 'cos(x[0])']\n",
    "grads3 = product_space_grad(m, f, n, gamma)"
   ]
  },
  {
   "cell_type": "markdown",
   "id": "8d66629a",
   "metadata": {},
   "source": [
    "# Optimization"
   ]
  },
  {
   "cell_type": "markdown",
   "id": "146a8341",
   "metadata": {},
   "source": [
    "Ok now let's see how `scipy.optimize.minimize` performs.\n",
    "\n",
    "Define the product mass matrix $M$ by\n",
    "\n",
    "$$\n",
    "M_{ij} = \\int_{\\Omega_1} \\phi_i\\, dx \\int_{\\Omega_2} \\phi_j\\, dy\n",
    "$$\n",
    "\n",
    "Given some function $f$ on $\\Omega\\times\\Omega$\n",
    "we can approximate its integral \n",
    "\n",
    "$$\n",
    "\\int\\! f(x,y) \\,dxdy = \n",
    "\\sum_{ij} f_{ij}\\int\\! \\phi_i(x)\\, dx\\int\\!\\phi_j(y) \\, dy =\n",
    "\\langle f, M\\rangle\n",
    "$$\n",
    "\n",
    "In other words we can precompute $M$ _once_ \n",
    "and dot it with the dof values of $f$."
   ]
  },
  {
   "cell_type": "code",
   "execution_count": 7,
   "id": "06266737",
   "metadata": {
    "ExecuteTime": {
     "end_time": "2021-12-07T22:44:17.220766Z",
     "start_time": "2021-12-07T22:44:16.987060Z"
    },
    "code_folding": [
     2
    ]
   },
   "outputs": [],
   "source": [
    "import scipy.optimize as opt\n",
    "\n",
    "def compute_product_mass(V):\n",
    "    Phi = np.zeros((n,n))\n",
    "    for i in range(n):\n",
    "        phi_i = Function(V)\n",
    "        phi_i.vector()[i] = 1.\n",
    "        for j in range(n):\n",
    "            phi_j = Function(V)\n",
    "            phi_j.vector()[j] = 1.\n",
    "            Phi[i,j] = assemble(phi_i * dx) * assemble(phi_j * dx)\n",
    "    return Phi\n",
    "\n",
    "def loss_and_grad(m, u_data, f, gamma):\n",
    "    \"\"\" (m, u_data) -> (J, dJdm) \"\"\"\n",
    "    # FORWARD (m -> u)\n",
    "    mesh = UnitIntervalMesh(n-1)\n",
    "    V = FunctionSpace(mesh, 'CG', 1)\n",
    "    W = pf.ProductFunctionSpace(V)\n",
    "    bc = pf.ProductDirichletBC(W, 0, 'on_boundary')\n",
    "    \n",
    "    # assemble forward system and solve for u\n",
    "    # weak form: a(u,v) = e^m grad(u) dot grad(v) dx\n",
    "    #            L(v) = f * v * dx\n",
    "    m_x = interpolate(Expression(m[0], element=V.ufl_element()), V)\n",
    "    m_y = interpolate(Expression(m[1], element=V.ufl_element()), V)\n",
    "    f_x = interpolate(Expression(f[0], element=V.ufl_element()), V)\n",
    "    f_y = interpolate(Expression(f[1], element=V.ufl_element()), V)\n",
    "    m_dim = len(m_x.vector()[:]) ** 2\n",
    "    \n",
    "    u, v = TrialFunction(V), TestFunction(V)\n",
    "    A_forms = [exp(m_x) * u.dx(0) * v.dx(0) * dx,\n",
    "               exp(m_y) * u * v * dx,\n",
    "               exp(m_x) * u * v * dx,\n",
    "               exp(m_y) * u.dx(0) * v.dx(0) * dx]\n",
    "    b_forms = [f_x * v * dx,\n",
    "               f_y * v * dx]\n",
    "    A, b = pf.assemble_product_system(A_forms, b_forms, bc)\n",
    "    u = np.linalg.solve(A, b)\n",
    "    \n",
    "    # LOSS (m, u -> J)\n",
    "    resids = 0.5 * (u - u_data)**2\n",
    "    J = np.dot(resids, Phi) + 0.5 * gamma * inner(grad(m), grad(m)) * dx\n",
    "    \n",
    "    # BACKWARD (m, u -> dJdm)\n",
    "    # assemble adjoint system and solve for p\n",
    "    # no need to reassemble adjoint stiffness just take transpose\n",
    "    # rhs is residuals^T K \\otimes K where K_ij = \\phi_i \\hat\\phi_j dxdy\n",
    "    p, v = TrialFunction(V), TestFunction(V)\n",
    "    K = assemble(p * v * dx).array()\n",
    "    u_d = np.zeros_like(u) # assume u_d = 0 for now\n",
    "    eps = -(u - u_d)\n",
    "    b_adj = eps.T.dot(np.kron(K, K))\n",
    "    \n",
    "    A_adj, b_adj = bc.apply(A.T, b_adj)\n",
    "    p = np.linalg.solve(A_adj, b_adj).T\n",
    "    \n",
    "    # assemble dbdm, dAdm, dJdm\n",
    "    # here b is independent of m so dbdm = 0\n",
    "    dbdm = np.zeros((len(b), m_dim))\n",
    "    \n",
    "    # loop over rs\n",
    "    dofs = W.dofmap.marginal_dofs\n",
    "    dAdm = np.zeros((A.shape + (m_dim,)))\n",
    "    dJdm = np.zeros((1, m_dim))\n",
    "    uu = TrialFunction(V)\n",
    "    for r in dofs:\n",
    "        phi_r = Function(V)\n",
    "        phi_r.vector()[r] = 1.\n",
    "        for s in dofs:\n",
    "            rs = s + r * len(dofs)\n",
    "            phi_s = Function(V)\n",
    "            phi_s.vector()[s] = 1.\n",
    "            \n",
    "            # dAdm = (phi_r phi_s e^m) inner(grad(u), grad(p)) dxdy\n",
    "            dAdm_forms = [phi_r * exp(m_x) * uu.dx(0) * v.dx(0) * dx,\n",
    "                          phi_s * exp(m_y) * uu * v * dx,\n",
    "                          phi_r * exp(m_x) * uu * v * dx,\n",
    "                          phi_s * exp(m_y) * uu.dx(0) * v.dx(0) * dx]\n",
    "            dAdm[:,:,rs] = pf.assemble_kron(dAdm_forms)\n",
    "\n",
    "            # dJdm = gamma inner(grad(m), grad(phi_r phi_s)) dxdy\n",
    "            dJdm_forms = [phi_r.dx(0) * m_x.dx(0) * dx,\n",
    "                          phi_s * dx,\n",
    "                          phi_r * dx,\n",
    "                          phi_s.dx(0) * m_y.dx(0) * dx]\n",
    "            dJdm[0,rs] = gamma * pf.assemble_kron(dJdm_forms)\n",
    "    \n",
    "    # compute gradient = p * (dbdm - dAdm * u) + dJdm\n",
    "    dFdm = dbdm - np.tensordot(dAdm, u, axes=(1,0))\n",
    "    return J, p.dot(dFdm) + dJdm"
   ]
  },
  {
   "cell_type": "code",
   "execution_count": 2,
   "id": "9ec667d5",
   "metadata": {
    "ExecuteTime": {
     "end_time": "2022-02-16T01:08:38.529463Z",
     "start_time": "2022-02-16T01:08:38.526630Z"
    }
   },
   "outputs": [],
   "source": [
    "mesh = UnitIntervalMesh(n-1)\n",
    "V = FunctionSpace(mesh, 'CG', 1)\n",
    "M = compute_product_mass(V)"
   ]
  },
  {
   "cell_type": "code",
   "execution_count": null,
   "id": "6bb13e59",
   "metadata": {},
   "outputs": [],
   "source": [
    "# prep for optimizing:\n",
    "# fix force function f and regularization parameter gamma \n",
    "f = ...\n",
    "gamma = 0.3\n",
    "\n",
    "# fix ground truth for m, simulate u_data from it\n",
    "m_truth = ...\n",
    "u_data = forward(m_truth, f, gamma)\n",
    "\n",
    "# make initial guess m0 for m\n",
    "m0 = np.zeros_like(m_truth)"
   ]
  },
  {
   "cell_type": "code",
   "execution_count": null,
   "id": "71ba35a7",
   "metadata": {},
   "outputs": [],
   "source": [
    "# opt.minimize will minimize \n",
    "# objective function fun (callable) such that\n",
    "#    fun(m, *args) -> float\n",
    "# with initial guess m0 (ndarray, shape (n,))\n",
    "# and additional args (tuple) to fun\n",
    "# using optimization method (e.g. ‘L-BFGS-B’) \n",
    "# and gradient vector jac (callable) such that\n",
    "#    jac(m, *args) -> array_like, shape (n,)\n",
    "\n",
    "# alternatively, if jac is True it is assumed\n",
    "#    fun(m, *args) -> loss, grad\n",
    "\n",
    "# might need bounds on args \n",
    "\n",
    "fun = loss_and_grad\n",
    "args = (u_data,)\n",
    "method = 'L-BFGS-B'\n",
    "jac = True\n",
    "\n",
    "opt.minimize(fun, m0, args, method, jac)"
   ]
  }
 ],
 "metadata": {
  "kernelspec": {
   "display_name": "Python 3",
   "language": "python",
   "name": "python3"
  },
  "language_info": {
   "codemirror_mode": {
    "name": "ipython",
    "version": 3
   },
   "file_extension": ".py",
   "mimetype": "text/x-python",
   "name": "python",
   "nbconvert_exporter": "python",
   "pygments_lexer": "ipython3",
   "version": "3.7.11"
  }
 },
 "nbformat": 4,
 "nbformat_minor": 5
}
