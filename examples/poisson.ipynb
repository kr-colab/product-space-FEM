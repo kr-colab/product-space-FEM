{
 "cells": [
  {
   "cell_type": "markdown",
   "id": "f9f85b58",
   "metadata": {},
   "source": [
    "## Poisson equation\n",
    "To demonstrate a product space solve, we'll consider\n",
    "\n",
    "$$\n",
    "\\begin{align*}\n",
    "    -\\Delta u &= f \\text{ in }\\Omega\\\\\n",
    "    u &= 0 \\text{ on }\\partial\\Omega\n",
    "\\end{align*}\n",
    "$$\n",
    "\n",
    "where $\\Omega$ is the unit square.\n",
    "When $f(x,y) = 2x(y-1)(xy-2x+y+2)\\exp(x-y)$,\n",
    "the equation has analytic solution\n",
    "\n",
    "$$u(x,y) = -x(1-x)y(1-y)\\exp(x-y)$$"
   ]
  },
  {
   "cell_type": "code",
   "execution_count": 2,
   "id": "c4650162",
   "metadata": {
    "ExecuteTime": {
     "end_time": "2022-01-28T23:45:33.415188Z",
     "start_time": "2022-01-28T23:45:30.013010Z"
    }
   },
   "outputs": [],
   "source": [
    "import numpy as np\n",
    "from fenics import *\n",
    "from product_fem import product_fem as pf\n",
    "\n",
    "n = 22 # mesh resolution\n",
    "mesh = UnitIntervalMesh(n-1)\n",
    "V1 = FunctionSpace(mesh, 'CG', 1)\n",
    "V = pf.ProductFunctionSpace(V1)\n",
    "assert V._marginal_mesh == mesh"
   ]
  },
  {
   "cell_type": "markdown",
   "id": "2ac04466",
   "metadata": {},
   "source": [
    "### Product space weak formulation\n",
    "For the above Poisson equation the weak formulation is:\n",
    "find $u$ such that $a(u,v) = L(v)$ for all $v$, where\n",
    "\n",
    "$$\n",
    "    a(u,v) = \\int_\\Omega\\! \\nabla u \\cdot \\nabla v\\, d\\mathbf{x}, \\qquad L(v) = \\int_\\Omega\\! fv \\, d\\mathbf{x}\n",
    "$$\n",
    "\n",
    "Since $\\Omega = (0,1)\\times(0,1)$ we can approximately solve the weak formulation using linear CG elements\n",
    "defined only on the unit interval. \n",
    "That is, given a finite element basis $\\{\\phi_i\\}$ on $(0,1)$ it follows that $\\{\\phi_i\\phi_j\\}$ is a finite element basis on the product space $\\Omega$.\n",
    "Thus we seek to solve $Au = b$ where \n",
    "$A_{ij,k\\ell} = a(\\phi_k\\phi_\\ell, \\hat\\phi_i\\hat\\phi_j)$ \n",
    "and $b_{ij} = L(\\hat\\phi_i\\hat\\phi_j)$. \n",
    "Let's write these down and apply Fubini's theorem to \n",
    "convert the product space integral to a product of integrals over $(0,1)$:\n",
    "\n",
    "$$\n",
    "    A_{ij,k\\ell} = \n",
    "    \\iint_\\Omega\\! \\nabla \\phi_j \\cdot \\nabla \\hat\\phi_i\\, dxdy = \n",
    "    \\int_0^1\\! \\phi_k'\\hat\\phi_i' \\, dx \n",
    "    \\int_0^1\\! \\phi_\\ell\\hat\\phi_j \\, dy + \n",
    "    \\int_0^1\\! \\phi_k\\hat\\phi_i \\, dx \n",
    "    \\int_0^1\\! \\phi_\\ell'\\hat\\phi_j'  \\, dy\n",
    "$$"
   ]
  },
  {
   "cell_type": "code",
   "execution_count": null,
   "id": "a87046ae",
   "metadata": {},
   "outputs": [],
   "source": [
    "# assembly\n",
    "u, v = TrialFunction(V1), TestFunction(V1)\n",
    "B_form = u.dx(0) * v.dx(0) * dx\n",
    "C_form = u * v * dx\n",
    "A_forms = [B_form, C_form]"
   ]
  },
  {
   "cell_type": "markdown",
   "id": "d8a9f909",
   "metadata": {},
   "source": [
    "After a projection to the product basis we may assume\n",
    "$f(x,y) = \\sum_k X_k(x)Y_k(y)$, so that\n",
    "\n",
    "$$\n",
    "    b_{ij} = \n",
    "    \\iint_\\Omega\\! f \\hat\\phi_i\\hat\\phi_j\\, dxdy =\n",
    "    \\sum_k\\int_0^1\\! X_k \\hat\\phi_i \\, dx \n",
    "    \\int_0^1\\! Y_k \\hat\\phi_j  \\, dy\n",
    "$$"
   ]
  },
  {
   "cell_type": "code",
   "execution_count": null,
   "id": "ed034622",
   "metadata": {},
   "outputs": [],
   "source": [
    "# force function sum_i X_iY_i\n",
    "X = ['2 * x[0] * exp(x[0])', \n",
    "     '-4 * x[0] * x[0] * exp(x[0])',\n",
    "     '2 * x[0] * x[0] * exp(x[0])', \n",
    "     '4 * x[0] * exp(x[0])']\n",
    "X = [Expression(x, element=V1.ufl_element()) for x in X]\n",
    "\n",
    "Y = ['x[0] * (x[0] - 1) * exp(-x[0])', \n",
    "     '(x[0] - 1) * exp(-x[0])',\n",
    "     'x[0] * (x[0] - 1) * exp(-x[0])', \n",
    "     '(x[0] - 1) * exp(-x[0])']\n",
    "Y = [Expression(y, element=V1.ufl_element()) for y in Y]\n",
    "\n",
    "c_forms = [fx * v * dx for fx in X]\n",
    "d_forms = [fy * v * dx for fy in Y]\n",
    "b_forms = [c_forms, d_forms]"
   ]
  },
  {
   "cell_type": "markdown",
   "id": "f497f482",
   "metadata": {},
   "source": [
    "### Assembly and boundary conditions"
   ]
  },
  {
   "cell_type": "code",
   "execution_count": 3,
   "id": "63234c83",
   "metadata": {
    "ExecuteTime": {
     "end_time": "2022-01-28T23:45:33.482494Z",
     "start_time": "2022-01-28T23:45:33.417411Z"
    }
   },
   "outputs": [],
   "source": [
    "bc = pf.ProductDirichletBC(V, 0)\n",
    "\n",
    "A, b = pf.assemble_product_system(A_forms, b_forms, bc)\n",
    "u_h = np.linalg.solve(A, b)"
   ]
  },
  {
   "cell_type": "markdown",
   "id": "da919d48",
   "metadata": {},
   "source": [
    "### $L^2$ error mesh convergence\n",
    "We should expect the $L^2$ norm to decay with\n",
    "increasing mesh resolution $h$.\n",
    "It can be shown that the FEM solution $u_h$\n",
    "with degree $p$ CG elements will converge to\n",
    "the analytic solution $u$ according to\n",
    "\n",
    "$$\n",
    "\\| u - u_h \\|_2 \\approx Ch^{p+1}\n",
    "$$\n",
    "\n",
    "for some constant $C$. Here we take $h$ to be the \n",
    "maximum edge length of the mesh.\n",
    "For example, a mesh on $[0,1]$ with $n$ evenly spaced\n",
    "nodes will have $h=\\frac{1}{n-1}$.\n",
    "To sanity check this we'll compute $\\|u - u_h\\|_2$ \n",
    "for increasing values of $n$, fit a linear model\n",
    "to $\\log(\\|u - u_h\\|_2) \\sim \\log(h)$, \n",
    "and confirm the slope is near $p+1$."
   ]
  },
  {
   "cell_type": "code",
   "execution_count": 8,
   "id": "f2cc7fac",
   "metadata": {
    "ExecuteTime": {
     "end_time": "2022-01-25T00:28:05.954971Z",
     "start_time": "2022-01-25T00:28:04.066632Z"
    }
   },
   "outputs": [],
   "source": [
    "from scipy import stats\n",
    "import matplotlib.pyplot as plt\n",
    "import seaborn as sns\n",
    "import pandas as pd\n",
    "\n",
    "def mesh_res_error(n):\n",
    "    mesh = UnitIntervalMesh(n-1)\n",
    "    h = mesh.hmax()\n",
    "    V = FunctionSpace(mesh, 'CG', 1)\n",
    "    W = prod.ProductFunctionSpace(V)\n",
    "\n",
    "    bc = prod.ProductDirichletBC(W, 0)\n",
    "\n",
    "    # force function sum_i X_iY_i\n",
    "    X = ['2 * x[0] * exp(x[0])', \n",
    "         '-4 * x[0] * x[0] * exp(x[0])',\n",
    "         '2 * x[0] * x[0] * exp(x[0])', \n",
    "         '4 * x[0] * exp(x[0])']\n",
    "    X = [Expression(x, element=V.ufl_element()) for x in X]\n",
    "\n",
    "    Y = ['x[0] * (x[0] - 1) * exp(-x[0])', \n",
    "         '(x[0] - 1) * exp(-x[0])',\n",
    "         'x[0] * (x[0] - 1) * exp(-x[0])', \n",
    "         '(x[0] - 1) * exp(-x[0])']\n",
    "    Y = [Expression(y, element=V.ufl_element()) for y in Y]\n",
    "\n",
    "    # assembly\n",
    "    u, v = TrialFunction(V), TestFunction(V)\n",
    "    B_form = u.dx(0) * v.dx(0) * dx\n",
    "    C_form = u * v * dx\n",
    "    A_forms = [B_form, C_form]\n",
    "\n",
    "    c_forms = [fx * v * dx for fx in X]\n",
    "    d_forms = [fy * v * dx for fy in Y]\n",
    "    b_forms = [c_forms, d_forms]\n",
    "\n",
    "    A, b = prod.assemble_product_system(A_forms, b_forms, bc)\n",
    "    u_h = np.linalg.solve(A, b)\n",
    "\n",
    "    # can compute integrals using mass matrix M_ij = int phi_i dx * int phi_j dy\n",
    "    # then int f(x,y) dxdy = sum_ij int f_ij phi_i(x) phi_j(y) dxdy\n",
    "    #                      = sum_ij f_ij M_ij\n",
    "    mass = assemble(v * dx)[:]\n",
    "    mass = np.kron(mass, mass)\n",
    "\n",
    "    # convergence checking\n",
    "    # errornorm(u, u_h) = int (u-u_anal)^2 dx\n",
    "    dof_to_coords = W.dofmap._dofs_to_coords\n",
    "    u = np.zeros_like(u_h)\n",
    "    analytic_u = lambda x,y: x * (x - 1) * y * (1 - y) * np.exp(x - y)\n",
    "    for dof, xy in dof_to_coords.items():\n",
    "        u[dof] = analytic_u(*xy)\n",
    "    l2_error = np.dot((u - u_h)**2, mass)\n",
    "\n",
    "    return h, np.sqrt(l2_error)"
   ]
  },
  {
   "cell_type": "code",
   "execution_count": 10,
   "id": "68c54622",
   "metadata": {
    "ExecuteTime": {
     "end_time": "2022-01-25T00:31:37.753572Z",
     "start_time": "2022-01-25T00:28:28.082331Z"
    }
   },
   "outputs": [
    {
     "data": {
      "image/png": "[encoded data removed]",
      "text/plain": [
       "<Figure size 600x600 with 1 Axes>"
      ]
     },
     "metadata": {
      "needs_background": "light"
     },
     "output_type": "display_data"
    }
   ],
   "source": [
    "# organize data frame\n",
    "ns = [5, 10, 20, 40, 80, 160]\n",
    "h_errors = np.array([mesh_res_error(n) for n in ns])\n",
    "hs, l2_err = h_errors[:,0], h_errors[:,1]\n",
    "data = {'n': ns, 'h': hs, 'log_h': np.log(hs), 'l2_err': l2_err, 'log_l2_err': np.log(l2_err)}\n",
    "data = pd.DataFrame(data)\n",
    "\n",
    "# perform regression and plot\n",
    "slope, intercept, r, p, se = stats.linregress(data['log_h'], data['log_l2_err'])\n",
    "line_kws={'label':fr'$\\log(\\parallel u - u_h\\parallel_2) = {np.round(slope, 4)} \\log(h) + {np.round(intercept, 1)}$'}\n",
    "ax = sns.regplot(x='log_h', y='log_l2_err', data=data, \n",
    "                 ci=None, order=1, line_kws=line_kws)\n",
    "# aesthetics\n",
    "ax.figure.set_dpi(100)\n",
    "ax.figure.set_figheight(6)\n",
    "ax.figure.set_figwidth(6)\n",
    "ax.set_xlabel(r'$\\log(h)$')\n",
    "ax.set_ylabel(r\"$ log(\\parallel u - u_h\\parallel_2)$\")\n",
    "ax.set_title(fr'$r^2 = {r**2}$')\n",
    "ax.legend()\n",
    "plt.show()"
   ]
  },
  {
   "cell_type": "markdown",
   "id": "9d46cdb8",
   "metadata": {},
   "source": [
    "Evidently $\\|u - u_h\\|_2 \\approx \\mathcal{O}(h^2)$, as claimed."
   ]
  }
 ],
 "metadata": {
  "kernelspec": {
   "display_name": "Python 3",
   "language": "python",
   "name": "python3"
  },
  "language_info": {
   "codemirror_mode": {
    "name": "ipython",
    "version": 3
   },
   "file_extension": ".py",
   "mimetype": "text/x-python",
   "name": "python",
   "nbconvert_exporter": "python",
   "pygments_lexer": "ipython3",
   "version": "3.7.11"
  }
 },
 "nbformat": 4,
 "nbformat_minor": 5
}
